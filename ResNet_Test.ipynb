{
  "nbformat": 4,
  "nbformat_minor": 0,
  "metadata": {
    "colab": {
      "provenance": [],
      "authorship_tag": "ABX9TyO9z3p/Pavfn3f3vfE5qUfp",
      "include_colab_link": true
    },
    "kernelspec": {
      "name": "python3",
      "display_name": "Python 3"
    },
    "language_info": {
      "name": "python"
    }
  },
  "cells": [
    {
      "cell_type": "markdown",
      "metadata": {
        "id": "view-in-github",
        "colab_type": "text"
      },
      "source": [
        "<a href=\"https://colab.research.google.com/github/AnnikaBoodoosingh/MergeTest/blob/main/ResNet_Test.ipynb\" target=\"_parent\"><img src=\"https://colab.research.google.com/assets/colab-badge.svg\" alt=\"Open In Colab\"/></a>"
      ]
    },
    {
      "cell_type": "markdown",
      "source": [
        "Testing **Resnet50**"
      ],
      "metadata": {
        "id": "be7dtDLFBIrS"
      }
    },
    {
      "cell_type": "code",
      "execution_count": null,
      "metadata": {
        "colab": {
          "base_uri": "https://localhost:8080/",
          "height": 212
        },
        "id": "Mg3o92Lx-v0P",
        "outputId": "333a376e-983d-423d-9a6e-ee44e3b63904"
      },
      "outputs": [
        {
          "output_type": "stream",
          "name": "stdout",
          "text": [
            "Extracted Feature Vector Shape: torch.Size([1, 2048, 7, 7])\n"
          ]
        },
        {
          "output_type": "display_data",
          "data": {
            "text/plain": [
              "<Figure size 2000x2000 with 6 Axes>"
            ],
            "image/png": "[encoded data removed]"
          },
          "metadata": {}
        }
      ],
      "source": [
        "import torch\n",
        "import torchvision.transforms as transforms\n",
        "from torchvision import models\n",
        "from PIL import Image\n",
        "import matplotlib.pyplot as plt\n",
        "\n",
        "# Load Pretrained ResNet-50\n",
        "resnet50 = models.resnet50(pretrained=True)\n",
        "resnet50.eval()  # Set to evaluation mode\n",
        "\n",
        "# Load and Preprocess Image\n",
        "image_path = \"image_3_diseased.png\"  # Use the filename directly\n",
        "image = Image.open(image_path).convert(\"RGB\")  # Convert image to RGB mode\n",
        "\n",
        "transform = transforms.Compose([\n",
        "    transforms.Resize((224, 224)),\n",
        "    transforms.ToTensor(),\n",
        "    transforms.Normalize(mean=[0.485, 0.456, 0.406], std=[0.229, 0.224, 0.225])\n",
        "])\n",
        "\n",
        "image_tensor = transform(image).unsqueeze(0)  # Add batch dimension\n",
        "\n",
        "# Define a hook function to capture features from a specific layer\n",
        "def hook_fn(module, input, output):\n",
        "    global features_output\n",
        "    features_output = output.detach()  # Store the output from this layer\n",
        "\n",
        "# Register the hook to a specific layer (e.g., 'layer4' of ResNet)\n",
        "hook = resnet50.layer4[2].register_forward_hook(hook_fn)\n",
        "\n",
        "# Run the image through the network\n",
        "with torch.no_grad():\n",
        "    resnet50(image_tensor)\n",
        "\n",
        "# Visualize the extracted features (for example, a feature map from a convolutional layer)\n",
        "print(\"Extracted Feature Vector Shape:\", features_output.shape)\n",
        "\n",
        "# Plot the feature map of the last layer (you can select any layer)\n",
        "features_output = features_output.squeeze()  # Remove the batch dimension\n",
        "\n",
        "# Visualize the feature maps (showing the first 6 feature maps here)\n",
        "fig, axarr = plt.subplots(1, 6, figsize=(20, 20))\n",
        "for idx, ax in enumerate(axarr):\n",
        "    ax.imshow(features_output[idx].cpu(), cmap='viridis')  # Feature map channels\n",
        "    ax.axis('off')\n",
        "plt.show()\n",
        "\n",
        "# Remove the hook after use\n",
        "hook.remove()"
      ]
    }
  ]
}